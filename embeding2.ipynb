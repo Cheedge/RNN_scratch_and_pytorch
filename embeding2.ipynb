{
 "cells": [
  {
   "cell_type": "code",
   "execution_count": 52,
   "id": "dedicated-debate",
   "metadata": {},
   "outputs": [],
   "source": [
    "import torch\n",
    "from torch.nn.parameter import Parameter\n",
    "import numpy as np"
   ]
  },
  {
   "cell_type": "code",
   "execution_count": 53,
   "id": "ready-influence",
   "metadata": {},
   "outputs": [
    {
     "name": "stdout",
     "output_type": "stream",
     "text": [
      "tensor([[4, 9, 3],\n",
      "        [0, 3, 9]])\n"
     ]
    },
    {
     "data": {
      "text/plain": [
       "(tensor([[[ 1.4437,  0.2660,  0.1665,  0.8744,  0.9463],\n",
       "          [-0.4949, -1.4959, -0.1938,  0.4455,  1.3253],\n",
       "          [-0.3090, -0.3414,  1.8530,  0.4681, -0.1577]],\n",
       " \n",
       "         [[-0.3160, -2.1152, -0.3561,  0.4372,  0.4913],\n",
       "          [-0.3090, -0.3414,  1.8530,  0.4681, -0.1577],\n",
       "          [-0.4949, -1.4959, -0.1938,  0.4455,  1.3253]]],\n",
       "        grad_fn=<IndexBackward>),\n",
       " tensor([[ 0.2660, -1.4959, -0.3414],\n",
       "         [-2.1152, -0.3414, -1.4959]], grad_fn=<IndexBackward>))"
      ]
     },
     "execution_count": 53,
     "metadata": {},
     "output_type": "execute_result"
    }
   ],
   "source": [
    "torch.manual_seed(0)\n",
    "num_v = 10 # totally num of vacabuliries of whole bag, so idx [0,V)\n",
    "# x: (N, T) gives index of whole bag voc, gives one idx.\n",
    "x = torch.randint(num_v, (2,3))\n",
    "# out: (N, T, D),\n",
    "vacab_size = num_v\n",
    "out = Parameter(torch.randn(vacab_size, 5))\n",
    "print(x)\n",
    "out[x], out[x, 1]"
   ]
  },
  {
   "cell_type": "code",
   "execution_count": 65,
   "id": "mathematical-highland",
   "metadata": {},
   "outputs": [
    {
     "name": "stdout",
     "output_type": "stream",
     "text": [
      "[[-0.19186327 -0.38144495  0.89455107]\n",
      " [-0.23598714 -0.46916798  1.10027599]\n",
      " [-0.11443502 -0.22750921  0.53354648]]\n"
     ]
    },
    {
     "ename": "IndexError",
     "evalue": "too many indices for array: array is 1-dimensional, but 2 were indexed",
     "output_type": "error",
     "traceback": [
      "\u001b[0;31m---------------------------------------------------------------------------\u001b[0m",
      "\u001b[0;31mIndexError\u001b[0m                                Traceback (most recent call last)",
      "\u001b[0;32m<ipython-input-65-f3d91f7950d5>\u001b[0m in \u001b[0;36m<module>\u001b[0;34m\u001b[0m\n\u001b[1;32m      3\u001b[0m \u001b[0mprint\u001b[0m\u001b[0;34m(\u001b[0m\u001b[0mtest_a\u001b[0m\u001b[0;34m.\u001b[0m\u001b[0mdot\u001b[0m\u001b[0;34m(\u001b[0m\u001b[0mtest_b\u001b[0m\u001b[0;34m.\u001b[0m\u001b[0mT\u001b[0m\u001b[0;34m)\u001b[0m\u001b[0;34m)\u001b[0m\u001b[0;34m\u001b[0m\u001b[0;34m\u001b[0m\u001b[0m\n\u001b[1;32m      4\u001b[0m \u001b[0mnp\u001b[0m\u001b[0;34m.\u001b[0m\u001b[0mdot\u001b[0m\u001b[0;34m(\u001b[0m\u001b[0mtest_a\u001b[0m\u001b[0;34m,\u001b[0m \u001b[0mtest_b\u001b[0m\u001b[0;34m.\u001b[0m\u001b[0mT\u001b[0m\u001b[0;34m)\u001b[0m\u001b[0;34m\u001b[0m\u001b[0;34m\u001b[0m\u001b[0m\n\u001b[0;32m----> 5\u001b[0;31m \u001b[0mtest_a\u001b[0m\u001b[0;34m[\u001b[0m\u001b[0;36m1\u001b[0m\u001b[0;34m]\u001b[0m\u001b[0;34m[\u001b[0m\u001b[0;36m3\u001b[0m\u001b[0;34m,\u001b[0m\u001b[0;36m0\u001b[0m\u001b[0;34m]\u001b[0m\u001b[0;34m\u001b[0m\u001b[0;34m\u001b[0m\u001b[0m\n\u001b[0m",
      "\u001b[0;31mIndexError\u001b[0m: too many indices for array: array is 1-dimensional, but 2 were indexed"
     ]
    }
   ],
   "source": [
    "test_a = np.random.randn(3, 1)\n",
    "test_b = np.random.randn(3, 1)\n",
    "print(test_a.dot(test_b.T))\n",
    "np.dot(test_a, test_b.T)\n",
    "test_a[1][3,0]"
   ]
  }
 ],
 "metadata": {
  "kernelspec": {
   "display_name": "Python 3",
   "language": "python",
   "name": "python3"
  },
  "language_info": {
   "codemirror_mode": {
    "name": "ipython",
    "version": 3
   },
   "file_extension": ".py",
   "mimetype": "text/x-python",
   "name": "python",
   "nbconvert_exporter": "python",
   "pygments_lexer": "ipython3",
   "version": "3.8.5"
  }
 },
 "nbformat": 4,
 "nbformat_minor": 5
}
